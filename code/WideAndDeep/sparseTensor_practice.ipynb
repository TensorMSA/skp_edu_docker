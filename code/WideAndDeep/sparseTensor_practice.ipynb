{
 "cells": [
  {
   "cell_type": "markdown",
   "metadata": {},
   "source": [
    "# SparseTensorExample\n",
    "* 듬성듬성한 데이터를 표현하는 방법\n",
    "\n",
    "* SparseTensor(indices=[[0, 0], [1, 2]], values=[1, 2], dense_shape=[3, 4])\n",
    ">[[1, 0, 0, 0]<br>\n",
    ">[0, 0, 2, 0]<br>\n",
    ">[0, 0, 0, 0]]"
   ]
  },
  {
   "cell_type": "code",
   "execution_count": 23,
   "metadata": {
    "collapsed": false
   },
   "outputs": [
    {
     "name": "stdout",
     "output_type": "stream",
     "text": [
      "SparseTensorValue(indices=array([[0, 0],\n",
      "       [1, 0],\n",
      "       [2, 0],\n",
      "       [3, 0]]), values=array([b'Bachelors', b'Some-college', b'male', b'female'], dtype=object), dense_shape=array([4, 1]))\n",
      "SparseTensorValue(indices=array([[0, 0],\n",
      "       [1, 2]]), values=array([1, 2], dtype=int32), dense_shape=array([3, 4]))\n",
      "[[b'Bachelors']\n",
      " [b'Some-college']\n",
      " [b'male']\n",
      " [b'female']]\n",
      "[[1 0 0 0]\n",
      " [0 0 2 0]\n",
      " [0 0 0 0]]\n"
     ]
    }
   ],
   "source": [
    "import tensorflow as tf\n",
    "import numpy as np\n",
    "\n",
    "\n",
    "\n",
    "spase_data = ['Bachelors', 'Some-college', 'male','female']\n",
    "\n",
    "# SparseTensor(indices=[[0, 0], [1, 2]], values=[1, 2], dense_shape=[3, 4])\n",
    "#tf.SparseTensor(\n",
    "#          indices=[[i, 0] for i in range(df[k].size)],\n",
    "#          values=df[k].values,\n",
    "#          dense_shape=[df[k].size, 1])\n",
    "\n",
    "spase_tensor = tf.SparseTensor(indices = [[i,0] for i in range(len(spase_data))]\n",
    "                               , values = spase_data\n",
    "                               , dense_shape = [len(spase_data), 1])#표현 행렬\n",
    "\n",
    "spase_tensor2 = tf.SparseTensor(indices=[[0, 0], [1, 2]], values=[1, 2], dense_shape=[3, 4])\n",
    "dense = tf.sparse_tensor_to_dense(spase_tensor, default_value='')\n",
    "dense2 = tf.sparse_tensor_to_dense(spase_tensor2)\n",
    "\n",
    "sess = tf.InteractiveSession()\n",
    "print(spase_tensor.eval())\n",
    "print(spase_tensor2.eval())\n",
    "print(dense.eval())\n",
    "print(dense2.eval())\n",
    "sess.close()\n"
   ]
  },
  {
   "cell_type": "code",
   "execution_count": null,
   "metadata": {
    "collapsed": true
   },
   "outputs": [],
   "source": []
  }
 ],
 "metadata": {
  "kernelspec": {
   "display_name": "Python [conda root]",
   "language": "python",
   "name": "conda-root-py"
  },
  "language_info": {
   "codemirror_mode": {
    "name": "ipython",
    "version": 3
   },
   "file_extension": ".py",
   "mimetype": "text/x-python",
   "name": "python",
   "nbconvert_exporter": "python",
   "pygments_lexer": "ipython3",
   "version": "3.5.2"
  }
 },
 "nbformat": 4,
 "nbformat_minor": 1
}
